{
 "cells": [
  {
   "cell_type": "code",
   "execution_count": 1,
   "id": "4fd7a493",
   "metadata": {},
   "outputs": [],
   "source": [
    "from bs4 import BeautifulSoup\n",
    "from multiprocessing import Process\n",
    "import requests\n",
    "import threading\n",
    "import pandas as pd\n",
    "import time\n",
    "import concurrent.futures\n",
    "import warnings\n",
    "warnings.filterwarnings('ignore')\n",
    "pd.set_option('display.max_rows', 5000)\n",
    "pd.set_option('display.max_columns', 5000)\n",
    "pd.set_option('display.width', -1)\n",
    "import re"
   ]
  },
  {
   "cell_type": "code",
   "execution_count": 2,
   "id": "51cf6de6",
   "metadata": {},
   "outputs": [],
   "source": [
    "url = 'https://kontakt.az/'\n",
    "content = requests.get(url)\n",
    "soup = BeautifulSoup(content.text,'html.parser')"
   ]
  },
  {
   "cell_type": "code",
   "execution_count": 38,
   "id": "2dfab894",
   "metadata": {},
   "outputs": [
    {
     "name": "stdout",
     "output_type": "stream",
     "text": [
      "Code Run Time: 38.594011306762695\n"
     ]
    }
   ],
   "source": [
    "st = time.time()\n",
    "df = pd.DataFrame()\n",
    "sub_category = []\n",
    "category_links = []\n",
    "paginated_links = []\n",
    "products_links = []\n",
    "df = pd.DataFrame()\n",
    "prop = []\n",
    "link = []\n",
    "code = []\n",
    "name = []\n",
    "price = []\n",
    "cash_price = []\n",
    "category = []\n",
    "\n",
    "\n",
    "def get_category_links(soup):\n",
    "    for i in soup.find_all('a',class_='menuliparent_a'):\n",
    "        if i.get('href') not in category_links:\n",
    "                category_links.append(i.get('href'))\n",
    "    return \n",
    "\n",
    "\n",
    "def pagination(category_links):\n",
    "    for link in category_links:\n",
    "        content_2 = requests.get(link)\n",
    "        soup_2 = BeautifulSoup(content_2.text,'html.parser')\n",
    "        try:\n",
    "            b = soup_2.find('span',class_='pages').text.split(' / ')[1]\n",
    "            a = soup_2.find('span',class_='pages').text.split(' / ')[0]\n",
    "        except:\n",
    "            b = 1\n",
    "            a = 1\n",
    "        for i in range(int(a),int(b)+1):\n",
    "            paginated_links.append(link + 'page/' + str(i) + '/')\n",
    "    return \n",
    "\n",
    "\n",
    "def get_prod_links(paginated_links):\n",
    "    for urls in paginated_links[1:9]:\n",
    "        content_3 = requests.get(urls)\n",
    "        soup_3 = BeautifulSoup(content_3.text,'html.parser')\n",
    "        a = soup_3.find_all('a',draggable='false')\n",
    "        for url in a:\n",
    "            products_links.append(url.get('href'))\n",
    "    return\n",
    "\n",
    "\n",
    "def get_prod_details(products_links):\n",
    "    for i in products_links[1:10]:\n",
    "        e = requests.get(i)\n",
    "        s = BeautifulSoup(e.text,'html.parser')\n",
    "        link.append(i)\n",
    "        code.append(s.find('div',class_='product-status').find('span').text)\n",
    "        name.append(s.find('h1',class_='title').text)\n",
    "        price.append(s.find('span',class_='nprice').text)\n",
    "        category.append(s.find('div',class_='col-12').find_all('a')[1].text)\n",
    "        sub_category.append(s.find('div',class_='col-12').find_all('a')[2].text)\n",
    "        try:\n",
    "            pr = re.findall('\\d+',s.find('div',class_='discounted-price').text)\n",
    "            cash_price.append(float(pr[0])+float(pr[1])/100)\n",
    "        except:\n",
    "            pr = None\n",
    "            cash_price.append(pr)\n",
    "        pc = s.find('div',class_='product-status').find('span').text\n",
    "        c = s.find_all('ul',class_='features-review-tabs submenuItems_params')[0].text\n",
    "        v = s.find_all('ul',class_='features-review-tabs submenuItems_params')[1].text\n",
    "        c = c.replace('\\n\\n','').replace('\\n ','').replace('\\n',',').split(',')\n",
    "        v = v.replace('\\n\\n','').replace('\\n ','').replace('\\n',',').split(',')\n",
    "        sd = dict(zip(c,v))\n",
    "        prop.append(sd)\n",
    "    return\n",
    "\n",
    "\n",
    "def details_convert_to_DataFrame(category, sub_category, code, link, name, price, cash_price, prop):\n",
    "    df['Category'] = category\n",
    "    df['Sub_Category'] = sub_category\n",
    "    df['Code'] = code\n",
    "    df['Link'] = link\n",
    "    df['Name'] = name\n",
    "    df['Price'] = price\n",
    "    df['Cash _Price'] = cash_price\n",
    "    df['Properties'] = prop\n",
    "    return \n",
    "\n",
    "\n",
    "def main():\n",
    "    get_category_links(soup)\n",
    "    category_links.remove('https://kontakt.az/telefonlar/mobil-telefonlar/xiaomi-mobil-telefonlar/')\n",
    "    category_links.remove('https://kontakt.az/telefonlar/mobil-telefonlar/apple-mobil-telefonlar/')\n",
    "    category_links.remove('https://kontakt.az/telefonlar/mobil-telefonlar/samsung-mobil-telefonlar/')\n",
    "    pagination(category_links)\n",
    "    get_prod_links(paginated_links)\n",
    "    get_prod_details(products_links)\n",
    "    details_convert_to_DataFrame(category,sub_category,code,link,name,price,cash_price,prop)\n",
    "    return\n",
    "\n",
    "    \n",
    "if __name__ == '__main__':\n",
    "    main()\n",
    "\n",
    "    \n",
    "et = time.time()\n",
    "result = et - st\n",
    "print(f'Code Run Time: {result}')"
   ]
  },
  {
   "cell_type": "code",
   "execution_count": 39,
   "id": "fb3b2ba7",
   "metadata": {},
   "outputs": [
    {
     "data": {
      "text/plain": [
       "38.594011306762695"
      ]
     },
     "execution_count": 39,
     "metadata": {},
     "output_type": "execute_result"
    }
   ],
   "source": []
  },
  {
   "cell_type": "code",
   "execution_count": 5,
   "id": "cba7f8e5",
   "metadata": {
    "scrolled": true
   },
   "outputs": [],
   "source": [
    "df = pd.DataFrame()\n",
    "prop = []\n",
    "link = []\n",
    "code = []\n",
    "name = []\n",
    "price = []\n",
    "cash_price = []\n",
    "category = []\n",
    "sub_category = []\n",
    "for i in products_links[1:30]:\n",
    "    e = requests.get(i)\n",
    "    s = BeautifulSoup(e.text,'html.parser')\n",
    "    link.append(i)\n",
    "    code.append(s.find('div',class_='product-status').find('span').text)\n",
    "    name.append(s.find('h1',class_='title').text)\n",
    "    price.append(s.find('span',class_='nprice').text)\n",
    "    category.append(s.find('div',class_='col-12').find_all('a')[1].text)\n",
    "    sub_category.append(s.find('div',class_='col-12').find_all('a')[2].text)\n",
    "    try:\n",
    "        pr = re.findall('\\d+',s.find('div',class_='discounted-price').text)\n",
    "        cash_price.append(float(pr[0])+float(pr[1])/100)\n",
    "    except:\n",
    "        pr = None\n",
    "        cash_price.append(pr)\n",
    "    pc = s.find('div',class_='product-status').find('span').text\n",
    "    c = s.find_all('ul',class_='features-review-tabs submenuItems_params')[0].text\n",
    "    v = s.find_all('ul',class_='features-review-tabs submenuItems_params')[1].text\n",
    "    c = c.replace('\\n\\n','').replace('\\n ','').replace('\\n',',').split(',')\n",
    "    v = v.replace('\\n\\n','').replace('\\n ','').replace('\\n',',').split(',')\n",
    "    sd = dict(zip(c,v))\n",
    "    prop.append(sd)\n",
    "df = pd.DataFrame(category,columns=['Category'])\n",
    "df['Sub_Category'] = sub_category\n",
    "df['Code'] = code\n",
    "df['Link'] = link\n",
    "df['Name'] = name\n",
    "df['Price'] = price\n",
    "df['Discounted_Price'] = cash_price\n",
    "df['Properties'] = prop"
   ]
  },
  {
   "cell_type": "code",
   "execution_count": null,
   "id": "724c1871",
   "metadata": {},
   "outputs": [],
   "source": []
  },
  {
   "cell_type": "code",
   "execution_count": null,
   "id": "134b2612",
   "metadata": {},
   "outputs": [],
   "source": []
  },
  {
   "cell_type": "code",
   "execution_count": null,
   "id": "7abda137",
   "metadata": {},
   "outputs": [],
   "source": []
  },
  {
   "cell_type": "code",
   "execution_count": null,
   "id": "d02ca82f",
   "metadata": {},
   "outputs": [],
   "source": []
  },
  {
   "cell_type": "code",
   "execution_count": null,
   "id": "a18a0534",
   "metadata": {},
   "outputs": [],
   "source": []
  },
  {
   "cell_type": "code",
   "execution_count": null,
   "id": "2abb6849",
   "metadata": {},
   "outputs": [],
   "source": []
  },
  {
   "cell_type": "code",
   "execution_count": null,
   "id": "2020d3de",
   "metadata": {},
   "outputs": [],
   "source": []
  },
  {
   "cell_type": "code",
   "execution_count": null,
   "id": "e587250c",
   "metadata": {},
   "outputs": [],
   "source": []
  }
 ],
 "metadata": {
  "kernelspec": {
   "display_name": "Python 3 (ipykernel)",
   "language": "python",
   "name": "python3"
  },
  "language_info": {
   "codemirror_mode": {
    "name": "ipython",
    "version": 3
   },
   "file_extension": ".py",
   "mimetype": "text/x-python",
   "name": "python",
   "nbconvert_exporter": "python",
   "pygments_lexer": "ipython3",
   "version": "3.9.13"
  }
 },
 "nbformat": 4,
 "nbformat_minor": 5
}
