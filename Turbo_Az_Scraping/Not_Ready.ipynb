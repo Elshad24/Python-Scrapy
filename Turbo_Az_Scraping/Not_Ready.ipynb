{
 "cells": [
  {
   "cell_type": "code",
   "execution_count": 2,
   "id": "2c770863",
   "metadata": {},
   "outputs": [],
   "source": [
    "import pandas as pd\n",
    "from bs4 import BeautifulSoup\n",
    "import requests\n",
    "import time\n",
    "from selenium import webdriver\n",
    "from warnings import filterwarnings\n",
    "filterwarnings('ignore')\n",
    "from selenium.webdriver.common.keys import Keys"
   ]
  },
  {
   "cell_type": "code",
   "execution_count": 3,
   "id": "b4c52d0f",
   "metadata": {},
   "outputs": [],
   "source": [
    "driver = webdriver.Edge(r'msedgedriver.exe')\n",
    "driver.get('https://mail.google.com/mail/u/1/#sent/KtbxLrjGSZLHTklpBhPWbDgZwhHdrQQZkL')\n",
    "driver.maximize_window()\n",
    "a = driver.find_element('xpath','//*[@id=\"identifierId\"]')\n",
    "a.click()\n",
    "mail = driver.find_element('xpath','//*[@id=\"identifierId\"]')\n",
    "time.sleep(2)\n",
    "mail.send_keys('ElshadOrujov1999@gmail.com')\n",
    "driver.find_element('xpath','//*[@id=\"identifierId\"]').send_keys(Keys.ENTER)"
   ]
  },
  {
   "cell_type": "code",
   "execution_count": 4,
   "id": "be3c34da",
   "metadata": {},
   "outputs": [
    {
     "ename": "NoSuchWindowException",
     "evalue": "Message: no such window: target window already closed\nfrom unknown error: web view not found\n  (Session info: MicrosoftEdge=110.0.1587.41)\nStacktrace:\nBacktrace:\n\tMicrosoft::Applications::Events::EventProperties::SetProperty [0x00007FF777201672+15186]\n\tMicrosoft::Applications::Events::EventProperty::EventProperty [0x00007FF77719A1C2+827458]\n\t(No symbol) [0x00007FF776E5ED90]\n\t(No symbol) [0x00007FF776E37ED4]\n\t(No symbol) [0x00007FF776EC5E5D]\n\t(No symbol) [0x00007FF776EDABF7]\n\t(No symbol) [0x00007FF776EC1D23]\n\t(No symbol) [0x00007FF776E93B80]\n\t(No symbol) [0x00007FF776E92B0E]\n\t(No symbol) [0x00007FF776E94344]\n\tMicrosoft::Applications::Events::EventProperties::SetProperty [0x00007FF77707C3C0+182768]\n\t(No symbol) [0x00007FF776F50095]\n\tMicrosoft::Applications::Events::EventProperty::EventProperty [0x00007FF7770DA6FA+42362]\n\tMicrosoft::Applications::Events::EventProperty::EventProperty [0x00007FF7770DD435+53941]\n\tMicrosoft::Applications::Events::ILogManager::DispatchEventBroadcast [0x00007FF7773F8A63+1456595]\n\tMicrosoft::Applications::Events::EventProperty::EventProperty [0x00007FF7771A271A+861594]\n\tMicrosoft::Applications::Events::EventProperty::EventProperty [0x00007FF7771A7804+882308]\n\tMicrosoft::Applications::Events::EventProperty::EventProperty [0x00007FF7771A795C+882652]\n\tMicrosoft::Applications::Events::EventProperty::EventProperty [0x00007FF7771B092E+919470]\n\tBaseThreadInitThunk [0x00007FFFB65726BD+29]\n\tRtlUserThreadStart [0x00007FFFB722DFB8+40]\n",
     "output_type": "error",
     "traceback": [
      "\u001b[1;31m---------------------------------------------------------------------------\u001b[0m",
      "\u001b[1;31mNoSuchWindowException\u001b[0m                     Traceback (most recent call last)",
      "\u001b[1;32m~\\AppData\\Local\\Temp\\ipykernel_11920\\3456836412.py\u001b[0m in \u001b[0;36m<module>\u001b[1;34m\u001b[0m\n\u001b[0;32m      2\u001b[0m \u001b[0mdriver\u001b[0m \u001b[1;33m=\u001b[0m \u001b[0mwebdriver\u001b[0m\u001b[1;33m.\u001b[0m\u001b[0mEdge\u001b[0m\u001b[1;33m(\u001b[0m\u001b[1;34mr'msedgedriver.exe'\u001b[0m\u001b[1;33m)\u001b[0m\u001b[1;33m\u001b[0m\u001b[1;33m\u001b[0m\u001b[0m\n\u001b[0;32m      3\u001b[0m \u001b[0mdriver\u001b[0m\u001b[1;33m.\u001b[0m\u001b[0mget\u001b[0m\u001b[1;33m(\u001b[0m\u001b[1;34m'https://turbo.az/'\u001b[0m\u001b[1;33m)\u001b[0m\u001b[1;33m\u001b[0m\u001b[1;33m\u001b[0m\u001b[0m\n\u001b[1;32m----> 4\u001b[1;33m \u001b[0mdriver\u001b[0m\u001b[1;33m.\u001b[0m\u001b[0mmaximize_window\u001b[0m\u001b[1;33m(\u001b[0m\u001b[1;33m)\u001b[0m\u001b[1;33m\u001b[0m\u001b[1;33m\u001b[0m\u001b[0m\n\u001b[0m\u001b[0;32m      5\u001b[0m \u001b[0mmarkalari_sec\u001b[0m \u001b[1;33m=\u001b[0m \u001b[0mdriver\u001b[0m\u001b[1;33m.\u001b[0m\u001b[0mfind_elements\u001b[0m\u001b[1;33m(\u001b[0m\u001b[1;34m'class name'\u001b[0m\u001b[1;33m,\u001b[0m\u001b[1;34m'tz-dropdown__option-label'\u001b[0m\u001b[1;33m)\u001b[0m\u001b[1;33m\u001b[0m\u001b[1;33m\u001b[0m\u001b[0m\n\u001b[0;32m      6\u001b[0m \u001b[1;32mfor\u001b[0m \u001b[0mnumber\u001b[0m \u001b[1;32min\u001b[0m \u001b[0mrange\u001b[0m\u001b[1;33m(\u001b[0m\u001b[1;36m2\u001b[0m\u001b[1;33m,\u001b[0m\u001b[1;36m152\u001b[0m\u001b[1;33m)\u001b[0m\u001b[1;33m:\u001b[0m\u001b[1;33m\u001b[0m\u001b[1;33m\u001b[0m\u001b[0m\n",
      "\u001b[1;32m~\\anaconda3\\lib\\site-packages\\selenium\\webdriver\\remote\\webdriver.py\u001b[0m in \u001b[0;36mmaximize_window\u001b[1;34m(self)\u001b[0m\n\u001b[0;32m    590\u001b[0m         \u001b[1;34m\"\"\"Maximizes the current window that webdriver is using.\"\"\"\u001b[0m\u001b[1;33m\u001b[0m\u001b[1;33m\u001b[0m\u001b[0m\n\u001b[0;32m    591\u001b[0m         \u001b[0mcommand\u001b[0m \u001b[1;33m=\u001b[0m \u001b[0mCommand\u001b[0m\u001b[1;33m.\u001b[0m\u001b[0mW3C_MAXIMIZE_WINDOW\u001b[0m\u001b[1;33m\u001b[0m\u001b[1;33m\u001b[0m\u001b[0m\n\u001b[1;32m--> 592\u001b[1;33m         \u001b[0mself\u001b[0m\u001b[1;33m.\u001b[0m\u001b[0mexecute\u001b[0m\u001b[1;33m(\u001b[0m\u001b[0mcommand\u001b[0m\u001b[1;33m,\u001b[0m \u001b[1;32mNone\u001b[0m\u001b[1;33m)\u001b[0m\u001b[1;33m\u001b[0m\u001b[1;33m\u001b[0m\u001b[0m\n\u001b[0m\u001b[0;32m    593\u001b[0m \u001b[1;33m\u001b[0m\u001b[0m\n\u001b[0;32m    594\u001b[0m     \u001b[1;32mdef\u001b[0m \u001b[0mfullscreen_window\u001b[0m\u001b[1;33m(\u001b[0m\u001b[0mself\u001b[0m\u001b[1;33m)\u001b[0m \u001b[1;33m->\u001b[0m \u001b[1;32mNone\u001b[0m\u001b[1;33m:\u001b[0m\u001b[1;33m\u001b[0m\u001b[1;33m\u001b[0m\u001b[0m\n",
      "\u001b[1;32m~\\anaconda3\\lib\\site-packages\\selenium\\webdriver\\remote\\webdriver.py\u001b[0m in \u001b[0;36mexecute\u001b[1;34m(self, driver_command, params)\u001b[0m\n\u001b[0;32m    438\u001b[0m         \u001b[0mresponse\u001b[0m \u001b[1;33m=\u001b[0m \u001b[0mself\u001b[0m\u001b[1;33m.\u001b[0m\u001b[0mcommand_executor\u001b[0m\u001b[1;33m.\u001b[0m\u001b[0mexecute\u001b[0m\u001b[1;33m(\u001b[0m\u001b[0mdriver_command\u001b[0m\u001b[1;33m,\u001b[0m \u001b[0mparams\u001b[0m\u001b[1;33m)\u001b[0m\u001b[1;33m\u001b[0m\u001b[1;33m\u001b[0m\u001b[0m\n\u001b[0;32m    439\u001b[0m         \u001b[1;32mif\u001b[0m \u001b[0mresponse\u001b[0m\u001b[1;33m:\u001b[0m\u001b[1;33m\u001b[0m\u001b[1;33m\u001b[0m\u001b[0m\n\u001b[1;32m--> 440\u001b[1;33m             \u001b[0mself\u001b[0m\u001b[1;33m.\u001b[0m\u001b[0merror_handler\u001b[0m\u001b[1;33m.\u001b[0m\u001b[0mcheck_response\u001b[0m\u001b[1;33m(\u001b[0m\u001b[0mresponse\u001b[0m\u001b[1;33m)\u001b[0m\u001b[1;33m\u001b[0m\u001b[1;33m\u001b[0m\u001b[0m\n\u001b[0m\u001b[0;32m    441\u001b[0m             \u001b[0mresponse\u001b[0m\u001b[1;33m[\u001b[0m\u001b[1;34m\"value\"\u001b[0m\u001b[1;33m]\u001b[0m \u001b[1;33m=\u001b[0m \u001b[0mself\u001b[0m\u001b[1;33m.\u001b[0m\u001b[0m_unwrap_value\u001b[0m\u001b[1;33m(\u001b[0m\u001b[0mresponse\u001b[0m\u001b[1;33m.\u001b[0m\u001b[0mget\u001b[0m\u001b[1;33m(\u001b[0m\u001b[1;34m\"value\"\u001b[0m\u001b[1;33m,\u001b[0m \u001b[1;32mNone\u001b[0m\u001b[1;33m)\u001b[0m\u001b[1;33m)\u001b[0m\u001b[1;33m\u001b[0m\u001b[1;33m\u001b[0m\u001b[0m\n\u001b[0;32m    442\u001b[0m             \u001b[1;32mreturn\u001b[0m \u001b[0mresponse\u001b[0m\u001b[1;33m\u001b[0m\u001b[1;33m\u001b[0m\u001b[0m\n",
      "\u001b[1;32m~\\anaconda3\\lib\\site-packages\\selenium\\webdriver\\remote\\errorhandler.py\u001b[0m in \u001b[0;36mcheck_response\u001b[1;34m(self, response)\u001b[0m\n\u001b[0;32m    243\u001b[0m                 \u001b[0malert_text\u001b[0m \u001b[1;33m=\u001b[0m \u001b[0mvalue\u001b[0m\u001b[1;33m[\u001b[0m\u001b[1;34m\"alert\"\u001b[0m\u001b[1;33m]\u001b[0m\u001b[1;33m.\u001b[0m\u001b[0mget\u001b[0m\u001b[1;33m(\u001b[0m\u001b[1;34m\"text\"\u001b[0m\u001b[1;33m)\u001b[0m\u001b[1;33m\u001b[0m\u001b[1;33m\u001b[0m\u001b[0m\n\u001b[0;32m    244\u001b[0m             \u001b[1;32mraise\u001b[0m \u001b[0mexception_class\u001b[0m\u001b[1;33m(\u001b[0m\u001b[0mmessage\u001b[0m\u001b[1;33m,\u001b[0m \u001b[0mscreen\u001b[0m\u001b[1;33m,\u001b[0m \u001b[0mstacktrace\u001b[0m\u001b[1;33m,\u001b[0m \u001b[0malert_text\u001b[0m\u001b[1;33m)\u001b[0m  \u001b[1;31m# type: ignore[call-arg]  # mypy is not smart enough here\u001b[0m\u001b[1;33m\u001b[0m\u001b[1;33m\u001b[0m\u001b[0m\n\u001b[1;32m--> 245\u001b[1;33m         \u001b[1;32mraise\u001b[0m \u001b[0mexception_class\u001b[0m\u001b[1;33m(\u001b[0m\u001b[0mmessage\u001b[0m\u001b[1;33m,\u001b[0m \u001b[0mscreen\u001b[0m\u001b[1;33m,\u001b[0m \u001b[0mstacktrace\u001b[0m\u001b[1;33m)\u001b[0m\u001b[1;33m\u001b[0m\u001b[1;33m\u001b[0m\u001b[0m\n\u001b[0m",
      "\u001b[1;31mNoSuchWindowException\u001b[0m: Message: no such window: target window already closed\nfrom unknown error: web view not found\n  (Session info: MicrosoftEdge=110.0.1587.41)\nStacktrace:\nBacktrace:\n\tMicrosoft::Applications::Events::EventProperties::SetProperty [0x00007FF777201672+15186]\n\tMicrosoft::Applications::Events::EventProperty::EventProperty [0x00007FF77719A1C2+827458]\n\t(No symbol) [0x00007FF776E5ED90]\n\t(No symbol) [0x00007FF776E37ED4]\n\t(No symbol) [0x00007FF776EC5E5D]\n\t(No symbol) [0x00007FF776EDABF7]\n\t(No symbol) [0x00007FF776EC1D23]\n\t(No symbol) [0x00007FF776E93B80]\n\t(No symbol) [0x00007FF776E92B0E]\n\t(No symbol) [0x00007FF776E94344]\n\tMicrosoft::Applications::Events::EventProperties::SetProperty [0x00007FF77707C3C0+182768]\n\t(No symbol) [0x00007FF776F50095]\n\tMicrosoft::Applications::Events::EventProperty::EventProperty [0x00007FF7770DA6FA+42362]\n\tMicrosoft::Applications::Events::EventProperty::EventProperty [0x00007FF7770DD435+53941]\n\tMicrosoft::Applications::Events::ILogManager::DispatchEventBroadcast [0x00007FF7773F8A63+1456595]\n\tMicrosoft::Applications::Events::EventProperty::EventProperty [0x00007FF7771A271A+861594]\n\tMicrosoft::Applications::Events::EventProperty::EventProperty [0x00007FF7771A7804+882308]\n\tMicrosoft::Applications::Events::EventProperty::EventProperty [0x00007FF7771A795C+882652]\n\tMicrosoft::Applications::Events::EventProperty::EventProperty [0x00007FF7771B092E+919470]\n\tBaseThreadInitThunk [0x00007FFFB65726BD+29]\n\tRtlUserThreadStart [0x00007FFFB722DFB8+40]\n"
     ]
    }
   ],
   "source": [
    "item_lists = []\n",
    "driver = webdriver.Edge(r'msedgedriver.exe')\n",
    "driver.get('https://turbo.az/')\n",
    "driver.maximize_window()\n",
    "markalari_sec = driver.find_elements('class name','tz-dropdown__option-label')\n",
    "for number in range(2,152):\n",
    "    markani_yaz = driver.find_element('xpath','//*[@id=\"new_q\"]/div/div[1]/div[1]/div/div[1]')\n",
    "    markani_yaz.click()\n",
    "    time.sleep(1)\n",
    "    marka = f'//*[@id=\"new_q\"]/div/div[1]/div[1]/div/div[2]/div/div[{number}]/div/span'\n",
    "    driver.find_element('xpath',marka).click()\n",
    "    time.sleep(1)\n",
    "    elanlari_goster = driver.find_element('xpath','//*[@id=\"new_q\"]/div/div[4]/div[2]/button')\n",
    "    elanlari_goster.click()\n",
    "    time.sleep(1)\n",
    "    item_lists.append(driver.find_elements('xpath','/html/body/div[4]/div[3]/div[2]/div/div[1]/div[2]/div[1]/a[1]'))\n",
    "    driver.back()\n",
    "driver.close()"
   ]
  },
  {
   "cell_type": "code",
   "execution_count": 7,
   "id": "e3125307",
   "metadata": {},
   "outputs": [
    {
     "data": {
      "text/plain": [
       "[[<selenium.webdriver.remote.webelement.WebElement (session=\"2f87533cf3caaa26b99b432e7012d5cc\", element=\"c45acc14-94d7-4be7-b5d5-4bf45c296a26\")>],\n",
       " [<selenium.webdriver.remote.webelement.WebElement (session=\"2f87533cf3caaa26b99b432e7012d5cc\", element=\"104fdf16-234a-408f-8721-b75c9adbe563\")>],\n",
       " [],\n",
       " [<selenium.webdriver.remote.webelement.WebElement (session=\"2f87533cf3caaa26b99b432e7012d5cc\", element=\"bf2bfbd6-0c4f-40b6-98f5-e854fad159a9\")>]]"
      ]
     },
     "execution_count": 7,
     "metadata": {},
     "output_type": "execute_result"
    }
   ],
   "source": [
    "item_lists"
   ]
  },
  {
   "cell_type": "code",
   "execution_count": null,
   "id": "aec8a3d5",
   "metadata": {},
   "outputs": [],
   "source": []
  },
  {
   "cell_type": "code",
   "execution_count": null,
   "id": "a286fa32",
   "metadata": {},
   "outputs": [],
   "source": []
  },
  {
   "cell_type": "code",
   "execution_count": null,
   "id": "189fa3f6",
   "metadata": {},
   "outputs": [],
   "source": []
  },
  {
   "cell_type": "code",
   "execution_count": null,
   "id": "fdfb0cbe",
   "metadata": {},
   "outputs": [],
   "source": []
  },
  {
   "cell_type": "code",
   "execution_count": null,
   "id": "144d7170",
   "metadata": {},
   "outputs": [],
   "source": []
  },
  {
   "cell_type": "code",
   "execution_count": null,
   "id": "07c20701",
   "metadata": {},
   "outputs": [],
   "source": []
  },
  {
   "cell_type": "code",
   "execution_count": null,
   "id": "73982994",
   "metadata": {},
   "outputs": [],
   "source": []
  },
  {
   "cell_type": "code",
   "execution_count": null,
   "id": "caeb249a",
   "metadata": {},
   "outputs": [],
   "source": []
  },
  {
   "cell_type": "code",
   "execution_count": null,
   "id": "76065353",
   "metadata": {},
   "outputs": [],
   "source": []
  },
  {
   "cell_type": "code",
   "execution_count": null,
   "id": "733e7750",
   "metadata": {},
   "outputs": [],
   "source": []
  },
  {
   "cell_type": "code",
   "execution_count": null,
   "id": "4d80d962",
   "metadata": {},
   "outputs": [],
   "source": []
  },
  {
   "cell_type": "code",
   "execution_count": null,
   "id": "3937f900",
   "metadata": {},
   "outputs": [],
   "source": []
  },
  {
   "cell_type": "code",
   "execution_count": null,
   "id": "470f148a",
   "metadata": {},
   "outputs": [],
   "source": []
  },
  {
   "cell_type": "code",
   "execution_count": null,
   "id": "06250fda",
   "metadata": {},
   "outputs": [],
   "source": []
  },
  {
   "cell_type": "code",
   "execution_count": null,
   "id": "a3f4e9f4",
   "metadata": {},
   "outputs": [],
   "source": []
  }
 ],
 "metadata": {
  "kernelspec": {
   "display_name": "Python 3 (ipykernel)",
   "language": "python",
   "name": "python3"
  },
  "language_info": {
   "codemirror_mode": {
    "name": "ipython",
    "version": 3
   },
   "file_extension": ".py",
   "mimetype": "text/x-python",
   "name": "python",
   "nbconvert_exporter": "python",
   "pygments_lexer": "ipython3",
   "version": "3.9.13"
  }
 },
 "nbformat": 4,
 "nbformat_minor": 5
}
