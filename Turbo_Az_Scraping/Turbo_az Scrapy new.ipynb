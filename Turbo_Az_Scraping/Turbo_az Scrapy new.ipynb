{
 "cells": [
  {
   "cell_type": "code",
   "execution_count": 1,
   "id": "00d0a13f",
   "metadata": {},
   "outputs": [
    {
     "ename": "ModuleNotFoundError",
     "evalue": "No module named 'grequests'",
     "output_type": "error",
     "traceback": [
      "\u001b[1;31m---------------------------------------------------------------------------\u001b[0m",
      "\u001b[1;31mModuleNotFoundError\u001b[0m                       Traceback (most recent call last)",
      "\u001b[1;32m~\\AppData\\Local\\Temp\\ipykernel_12764\\2588335482.py\u001b[0m in \u001b[0;36m<module>\u001b[1;34m\u001b[0m\n\u001b[0;32m      1\u001b[0m \u001b[1;32mfrom\u001b[0m \u001b[0mbs4\u001b[0m \u001b[1;32mimport\u001b[0m \u001b[0mBeautifulSoup\u001b[0m\u001b[1;33m\u001b[0m\u001b[1;33m\u001b[0m\u001b[0m\n\u001b[0;32m      2\u001b[0m \u001b[1;32mimport\u001b[0m \u001b[0mrequests\u001b[0m\u001b[1;33m\u001b[0m\u001b[1;33m\u001b[0m\u001b[0m\n\u001b[1;32m----> 3\u001b[1;33m \u001b[1;32mimport\u001b[0m \u001b[0mgrequests\u001b[0m\u001b[1;33m\u001b[0m\u001b[1;33m\u001b[0m\u001b[0m\n\u001b[0m\u001b[0;32m      4\u001b[0m \u001b[1;32mimport\u001b[0m \u001b[0mpandas\u001b[0m \u001b[1;32mas\u001b[0m \u001b[0mpd\u001b[0m\u001b[1;33m\u001b[0m\u001b[1;33m\u001b[0m\u001b[0m\n\u001b[0;32m      5\u001b[0m \u001b[1;32mimport\u001b[0m \u001b[0mtime\u001b[0m\u001b[1;33m\u001b[0m\u001b[1;33m\u001b[0m\u001b[0m\n",
      "\u001b[1;31mModuleNotFoundError\u001b[0m: No module named 'grequests'"
     ]
    }
   ],
   "source": [
    "from bs4 import BeautifulSoup\n",
    "import requests\n",
    "import pandas as pd\n",
    "import time\n",
    "import concurrent.futures\n",
    "import warnings\n",
    "warnings.filterwarnings('ignore')\n",
    "# pd.set_option('display.max_rows', 5000)\n",
    "# pd.set_option('display.max_columns', 5000)\n",
    "# pd.set_option('display.width', -1)"
   ]
  },
  {
   "cell_type": "code",
   "execution_count": null,
   "id": "b30ddfaf",
   "metadata": {},
   "outputs": [],
   "source": [
    "st = time.time()\n",
    "for link in links[:2]:\n",
    "    response = requests.get(link)\n",
    "    soup = BeautifulSoup(response.text,'lxml')\n",
    "print('Running Time',st - time.time)"
   ]
  },
  {
   "cell_type": "code",
   "execution_count": 2,
   "id": "99fe4402",
   "metadata": {},
   "outputs": [
    {
     "data": {
      "text/plain": [
       "<Response [200]>"
      ]
     },
     "execution_count": 2,
     "metadata": {},
     "output_type": "execute_result"
    }
   ],
   "source": [
    "response = requests.get('https://turbo.az')\n",
    "soup = BeautifulSoup(response.text,'html.parser')\n",
    "response"
   ]
  },
  {
   "cell_type": "code",
   "execution_count": 6,
   "id": "558f2497",
   "metadata": {},
   "outputs": [],
   "source": [
    "links = pd.read_excel('turbo_az_cars_link.xlsx')\n",
    "links = list(links[0])"
   ]
  },
  {
   "cell_type": "code",
   "execution_count": 100,
   "id": "39557360",
   "metadata": {},
   "outputs": [
    {
     "name": "stdout",
     "output_type": "stream",
     "text": [
      "0.2202291488647461\n"
     ]
    }
   ],
   "source": [
    "df = pd.DataFrame()\n",
    "var = []\n",
    "values = []\n",
    "col_name = []\n",
    "#for url in link:\n",
    "st = time.time()\n",
    "def get_scrapy_cars(url):\n",
    "    response = requests.get(url)\n",
    "    soup = BeautifulSoup(response.text,'html.parser')\n",
    "    a = soup.find_all('li',class_='product-properties-i')\n",
    "    for i in a:\n",
    "        if i.find('div') == None or i.find('label') == None:\n",
    "            pass\n",
    "        else:\n",
    "            col_name.append(i.find('label').text)\n",
    "            values.append(i.find('div').text)\n",
    "\n",
    "    c = soup.find_all('div',class_='product--contacts-side')\n",
    "    if c != [] and c != None:\n",
    "        sal = soup.find_all('div',class_='shop-contact-i shop-contact--phones')\n",
    "        for salon in sal:\n",
    "            col_name.append('Ad')\n",
    "            values.append(salon.find('a',class_='shop-contact--shop-name').text)\n",
    "            col_name.append('Nömrə')\n",
    "            phone = salon.find_all('div',class_='shop-contact--phones-i')\n",
    "            phones = []\n",
    "            for w in phone:\n",
    "                phones.append(w.find('a',class_='shop-contact--phones-number').text)\n",
    "            values.append(phones)\n",
    "    else:\n",
    "        try:\n",
    "            value_1 = soup.find('div',class_='seller-name').text\n",
    "        except:\n",
    "            value_1 = None\n",
    "        col_name.append('Ad')\n",
    "        values.append(value_1)\n",
    "        g = soup.find_all('div',class_='seller-phone')\n",
    "        if g == [] or g == None:\n",
    "            pass\n",
    "        else:\n",
    "            k = soup.find_all('div',class_='seller-phone')\n",
    "            phone_1 = []\n",
    "            for f in k:\n",
    "                phone_1.append(f.find('a').text)\n",
    "            col_name.append('Nömrə')\n",
    "            values.append(phone_1)\n",
    "    var.append(dict(zip(col_name,values)))\n",
    "    return \n",
    "with concurrent.futures.ThreadPoolExecutor() as executor:\n",
    "    executor.map(get_scrapy_cars, link)\n",
    "et = time.time()\n",
    "result = et - st\n",
    "print(result)\n",
    "df = pd.DataFrame(var)"
   ]
  },
  {
   "cell_type": "code",
   "execution_count": null,
   "id": "051f006e",
   "metadata": {},
   "outputs": [],
   "source": []
  },
  {
   "cell_type": "code",
   "execution_count": 64,
   "id": "3cd07255",
   "metadata": {},
   "outputs": [],
   "source": [
    "def get_scrapy_cars(url):\n",
    "    response = s.get(url)\n",
    "    soup = BeautifulSoup(response.text,'html.parser')\n",
    "    a = soup.find_all('li',class_='product-properties-i')\n",
    "    print(a)\n",
    "    for i in a:\n",
    "        if i.find('div') == None or i.find('label') == None:\n",
    "            pass\n",
    "        else:\n",
    "            col_name.append(i.find('label').text)\n",
    "            values.append(i.find('div').text)\n",
    "\n",
    "    c = soup.find_all('div',class_='product--contacts-side')\n",
    "    if c != [] and c != None:\n",
    "        sal = soup.find_all('div',class_='shop-contact-i shop-contact--phones')\n",
    "        for salon in sal:\n",
    "            col_name.append('Ad')\n",
    "            values.append(salon.find('a',class_='shop-contact--shop-name').text)\n",
    "            col_name.append('Nömrə')\n",
    "            phone = salon.find_all('div',class_='shop-contact--phones-i')\n",
    "            phones = []\n",
    "            for w in phone:\n",
    "                phones.append(w.find('a',class_='shop-contact--phones-number').text)\n",
    "            values.append(phones)\n",
    "    else:\n",
    "        try:\n",
    "            value_1 = soup.find('div',class_='seller-name').text\n",
    "        except:\n",
    "            value_1 = None\n",
    "        col_name.append('Ad')\n",
    "        values.append(value_1)\n",
    "        g = soup.find_all('div',class_='seller-phone')\n",
    "        if g == [] or g == None:\n",
    "            pass\n",
    "        else:\n",
    "            k = soup.find_all('div',class_='seller-phone')\n",
    "            phone_1 = []\n",
    "            for f in k:\n",
    "                phone_1.append(f.find('a').text)\n",
    "            col_name.append('Nömrə')\n",
    "            values.append(phone_1)\n",
    "    var.append(dict(zip(col_name,values)))"
   ]
  },
  {
   "cell_type": "code",
   "execution_count": null,
   "id": "a0914ce5",
   "metadata": {},
   "outputs": [],
   "source": [
    "df = pd.DataFrame()\n",
    "var = []\n",
    "st = time.time()\n",
    "for url in links[31250:]:\n",
    "    values = []\n",
    "    col_name = []\n",
    "    response = requests.get(url)\n",
    "    soup = BeautifulSoup(response.text,'html.parser')\n",
    "    a = soup.find_all('li',class_='product-properties-i')\n",
    "    for i in a:\n",
    "        print(i)\n",
    "        if i.find('div') == None or i.find('label') == None:\n",
    "            pass\n",
    "        else:\n",
    "            col_name.append(i.find('label').text)\n",
    "            values.append(i.find('div').text)\n",
    "    c = soup.find_all('div',class_='product--contacts-side')\n",
    "    if c != [] and c != None:\n",
    "        sal = soup.find_all('div',class_='shop-contact-i shop-contact--phones')\n",
    "        for salon in sal:\n",
    "            col_name.append('Ad')\n",
    "            values.append(salon.find('a',class_='shop-contact--shop-name').text)\n",
    "            col_name.append('Nömrə')\n",
    "            phone = salon.find_all('div',class_='shop-contact--phones-i')\n",
    "            phones = []\n",
    "            for w in phone:\n",
    "                phones.append(w.find('a',class_='shop-contact--phones-number').text)\n",
    "            values.append(phones)\n",
    "    else:\n",
    "        try:\n",
    "            value_1 = soup.find('div',class_='seller-name').text\n",
    "        except:\n",
    "            value_1 = None\n",
    "        col_name.append('Ad')\n",
    "        values.append(value_1)\n",
    "        g = soup.find_all('div',class_='seller-phone')\n",
    "        if g == [] or g == None:\n",
    "            pass\n",
    "        else:\n",
    "            k = soup.find_all('div',class_='seller-phone')\n",
    "            phone_1 = []\n",
    "            for f in k:\n",
    "                phone_1.append(f.find('a').text)\n",
    "            col_name.append('Nömrə')\n",
    "            values.append(phone_1)\n",
    "    col_name.append('Url')\n",
    "    values.append(url)\n",
    "    var.append(dict(zip(col_name,values)))\n",
    "et = time.time()\n",
    "result = et - st\n",
    "print(result)\n",
    "df_temp = pd.DataFrame(var)"
   ]
  },
  {
   "cell_type": "code",
   "execution_count": null,
   "id": "178038cb",
   "metadata": {
    "scrolled": true
   },
   "outputs": [
    {
     "name": "stdout",
     "output_type": "stream",
     "text": [
      "61.02911305427551\n",
      "65.89232969284058\n",
      "61.40487837791443\n",
      "52.833335876464844\n",
      "61.403165340423584\n",
      "21.43299388885498\n",
      "5.796474456787109\n",
      "5.825416564941406\n",
      "6.780780792236328\n",
      "5.437125205993652\n",
      "6.68802285194397\n",
      "6.71034049987793\n",
      "6.450247287750244\n",
      "6.778302192687988\n"
     ]
    }
   ],
   "source": [
    "var = []\n",
    "for lst in range(10100,14600,300):\n",
    "    time.sleep(2)\n",
    "    df = pd.DataFrame()\n",
    "    st = time.time()\n",
    "    def get_scrapy_cars(url):\n",
    "      values = []\n",
    "      col_name = []\n",
    "      response = requests.get(url)\n",
    "      soup = BeautifulSoup(response.text,'html.parser')\n",
    "      a = soup.find_all('li',class_='product-properties-i')\n",
    "      for i in a:\n",
    "          if i.find('div') == None or i.find('label') == None:\n",
    "              pass\n",
    "          else:\n",
    "              col_name.append(i.find('label').text)\n",
    "              values.append(i.find('div').text)\n",
    "      c = soup.find_all('div',class_='product--contacts-side')\n",
    "      if c != [] and c != None:\n",
    "          sal = soup.find_all('div',class_='shop-contact-i shop-contact--phones')\n",
    "          for salon in sal:\n",
    "              col_name.append('Ad')\n",
    "              values.append(salon.find('a',class_='shop-contact--shop-name').text)\n",
    "              col_name.append('Nömrə')\n",
    "              phone = salon.find_all('div',class_='shop-contact--phones-i')\n",
    "              phones = []\n",
    "              for w in phone:\n",
    "                  phones.append(w.find('a',class_='shop-contact--phones-number').text)\n",
    "              values.append(phones)\n",
    "      else:\n",
    "          try:\n",
    "              value_1 = soup.find('div',class_='seller-name').text\n",
    "          except:\n",
    "              value_1 = None\n",
    "          col_name.append('Ad')\n",
    "          values.append(value_1)\n",
    "          g = soup.find_all('div',class_='seller-phone')\n",
    "          if g == [] or g == None:\n",
    "              pass\n",
    "          else:\n",
    "              k = soup.find_all('div',class_='seller-phone')\n",
    "              phone_1 = []\n",
    "              for f in k:\n",
    "                  phone_1.append(f.find('a').text)\n",
    "              col_name.append('Nömrə')\n",
    "              values.append(phone_1)\n",
    "      col_name.append('Url')\n",
    "      values.append(url)\n",
    "      var.append(dict(zip(col_name,values)))\n",
    "      return \n",
    "    with concurrent.futures.ThreadPoolExecutor(max_workers=100) as executor:\n",
    "      executor.map(get_scrapy_cars,links[lst:lst + 300])\n",
    "    et = time.time()\n",
    "    result = et - st\n",
    "    print(result)\n",
    "df_10099_14600 = pd.DataFrame(var)"
   ]
  },
  {
   "cell_type": "code",
   "execution_count": null,
   "id": "9a17a2fb",
   "metadata": {},
   "outputs": [],
   "source": [
    "df_10099_14600"
   ]
  },
  {
   "cell_type": "code",
   "execution_count": 8,
   "id": "59346116",
   "metadata": {},
   "outputs": [],
   "source": [
    "df_10099_14600.to_excel('data1_5900_10099.xlsx')"
   ]
  },
  {
   "cell_type": "code",
   "execution_count": null,
   "id": "5d71a02b",
   "metadata": {},
   "outputs": [],
   "source": [
    "\n"
   ]
  }
 ],
 "metadata": {
  "kernelspec": {
   "display_name": "Python 3 (ipykernel)",
   "language": "python",
   "name": "python3"
  },
  "language_info": {
   "codemirror_mode": {
    "name": "ipython",
    "version": 3
   },
   "file_extension": ".py",
   "mimetype": "text/x-python",
   "name": "python",
   "nbconvert_exporter": "python",
   "pygments_lexer": "ipython3",
   "version": "3.9.13"
  }
 },
 "nbformat": 4,
 "nbformat_minor": 5
}
