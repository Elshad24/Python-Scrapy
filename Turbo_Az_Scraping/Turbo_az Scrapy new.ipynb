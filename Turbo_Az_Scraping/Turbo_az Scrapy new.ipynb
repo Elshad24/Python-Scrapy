{
 "cells": [
  {
   "cell_type": "code",
   "execution_count": 1,
   "id": "00d0a13f",
   "metadata": {},
   "outputs": [],
   "source": [
    "from bs4 import BeautifulSoup\n",
    "import requests\n",
    "import pandas as pd\n",
    "import time\n",
    "import concurrent.futures\n",
    "import warnings\n",
    "warnings.filterwarnings('ignore')\n",
    "# pd.set_option('display.max_rows', 5000)\n",
    "# pd.set_option('display.max_columns', 5000)\n",
    "# pd.set_option('display.width', -1)"
   ]
  },
  {
   "cell_type": "code",
   "execution_count": null,
   "id": "b30ddfaf",
   "metadata": {},
   "outputs": [],
   "source": [
    "st = time.time()\n",
    "for link in links[:2]:\n",
    "    response = requests.get(link)\n",
    "    soup = BeautifulSoup(response.text,'lxml')\n",
    "print('Running Time',st - time.time)"
   ]
  },
  {
   "cell_type": "code",
   "execution_count": 2,
   "id": "99fe4402",
   "metadata": {},
   "outputs": [
    {
     "data": {
      "text/plain": [
       "<Response [200]>"
      ]
     },
     "execution_count": 2,
     "metadata": {},
     "output_type": "execute_result"
    }
   ],
   "source": [
    "response = requests.get('https://turbo.az')\n",
    "soup = BeautifulSoup(response.text,'html.parser')\n",
    "response"
   ]
  },
  {
   "cell_type": "code",
   "execution_count": null,
   "id": "b9dd60a2",
   "metadata": {},
   "outputs": [],
   "source": [
    "var = []\n",
    "for lst in range(10100,14600,300):\n",
    "    time.sleep(2)\n",
    "    df = pd.DataFrame()\n",
    "    st = time.time()\n",
    "    def get_scrapy_cars(url):\n",
    "      values = []\n",
    "      col_name = []\n",
    "      response = requests.get(url)\n",
    "      soup = BeautifulSoup(response.text,'html.parser')\n",
    "      a = soup.find_all('li',class_='product-properties-i')\n",
    "      for i in a:\n",
    "          if i.find('div') == None or i.find('label') == None:\n",
    "              pass\n",
    "          else:\n",
    "              col_name.append(i.find('label').text)\n",
    "              values.append(i.find('div').text)\n",
    "      c = soup.find_all('div',class_='product--contacts-side')\n",
    "      if c != [] and c != None:\n",
    "          sal = soup.find_all('div',class_='shop-contact-i shop-contact--phones')\n",
    "          for salon in sal:\n",
    "              col_name.append('Ad')\n",
    "              values.append(salon.find('a',class_='shop-contact--shop-name').text)\n",
    "              col_name.append('Nömrə')\n",
    "              phone = salon.find_all('div',class_='shop-contact--phones-i')\n",
    "              phones = []\n",
    "              for w in phone:\n",
    "                  phones.append(w.find('a',class_='shop-contact--phones-number').text)\n",
    "              values.append(phones)\n",
    "      else:\n",
    "          try:\n",
    "              value_1 = soup.find('div',class_='seller-name').text\n",
    "          except:\n",
    "              value_1 = None\n",
    "          col_name.append('Ad')\n",
    "          values.append(value_1)\n",
    "          g = soup.find_all('div',class_='seller-phone')\n",
    "          if g == [] or g == None:\n",
    "              pass\n",
    "          else:\n",
    "              k = soup.find_all('div',class_='seller-phone')\n",
    "              phone_1 = []\n",
    "              for f in k:\n",
    "                  phone_1.append(f.find('a').text)\n",
    "              col_name.append('Nömrə')\n",
    "              values.append(phone_1)\n",
    "      col_name.append('Url')\n",
    "      values.append(url)\n",
    "      var.append(dict(zip(col_name,values)))\n",
    "      return \n",
    "    with concurrent.futures.ThreadPoolExecutor(max_workers=100) as executor:\n",
    "      executor.map(get_scrapy_cars,links[lst:lst + 300])\n",
    "    et = time.time()\n",
    "    result = et - st\n",
    "    print(result)\n",
    "df_10099_14600 = pd.DataFrame(var)\n",
    "df_10099_14600.to_excel('data1_5900_10099.xlsx')"
   ]
  },
  {
   "cell_type": "code",
   "execution_count": null,
   "id": "d15fe74a",
   "metadata": {},
   "outputs": [
    {
     "ename": "AttributeError",
     "evalue": "'NoneType' object has no attribute 'find'",
     "output_type": "error",
     "traceback": [
      "\u001b[1;31m---------------------------------------------------------------------------\u001b[0m",
      "\u001b[1;31mAttributeError\u001b[0m                            Traceback (most recent call last)",
      "\u001b[1;32m~\\AppData\\Local\\Temp\\ipykernel_17792\\860074483.py\u001b[0m in \u001b[0;36m<module>\u001b[1;34m\u001b[0m\n\u001b[0;32m      1\u001b[0m \u001b[0mlink\u001b[0m \u001b[1;33m=\u001b[0m \u001b[1;33m[\u001b[0m\u001b[1;33m]\u001b[0m\u001b[1;33m\u001b[0m\u001b[1;33m\u001b[0m\u001b[0m\n\u001b[1;32m----> 2\u001b[1;33m \u001b[0mb\u001b[0m \u001b[1;33m=\u001b[0m \u001b[0mint\u001b[0m\u001b[1;33m(\u001b[0m\u001b[0msoup\u001b[0m\u001b[1;33m.\u001b[0m\u001b[0mfind\u001b[0m\u001b[1;33m(\u001b[0m\u001b[1;34m'span'\u001b[0m\u001b[1;33m,\u001b[0m\u001b[0mclass_\u001b[0m\u001b[1;33m=\u001b[0m\u001b[1;34m'last'\u001b[0m\u001b[1;33m)\u001b[0m\u001b[1;33m.\u001b[0m\u001b[0mfind\u001b[0m\u001b[1;33m(\u001b[0m\u001b[1;34m'a'\u001b[0m\u001b[1;33m)\u001b[0m\u001b[1;33m.\u001b[0m\u001b[0mget\u001b[0m\u001b[1;33m(\u001b[0m\u001b[1;34m'href'\u001b[0m\u001b[1;33m)\u001b[0m\u001b[1;33m.\u001b[0m\u001b[0msplit\u001b[0m\u001b[1;33m(\u001b[0m\u001b[1;34m'='\u001b[0m\u001b[1;33m)\u001b[0m\u001b[1;33m[\u001b[0m\u001b[1;36m1\u001b[0m\u001b[1;33m]\u001b[0m\u001b[1;33m)\u001b[0m\u001b[1;33m\u001b[0m\u001b[1;33m\u001b[0m\u001b[0m\n\u001b[0m\u001b[0;32m      3\u001b[0m \u001b[1;32mfor\u001b[0m \u001b[0mi\u001b[0m \u001b[1;32min\u001b[0m \u001b[0mrange\u001b[0m\u001b[1;33m(\u001b[0m\u001b[1;36m1\u001b[0m\u001b[1;33m,\u001b[0m\u001b[0mb\u001b[0m\u001b[1;33m)\u001b[0m\u001b[1;33m:\u001b[0m\u001b[1;33m\u001b[0m\u001b[1;33m\u001b[0m\u001b[0m\n\u001b[0;32m      4\u001b[0m     \u001b[0murls\u001b[0m \u001b[1;33m=\u001b[0m \u001b[1;34m'https://turbo.az/autos'\u001b[0m \u001b[1;33m+\u001b[0m \u001b[1;34m'?page='\u001b[0m \u001b[1;33m+\u001b[0m \u001b[0mstr\u001b[0m\u001b[1;33m(\u001b[0m\u001b[0mi\u001b[0m\u001b[1;33m)\u001b[0m\u001b[1;33m\u001b[0m\u001b[1;33m\u001b[0m\u001b[0m\n\u001b[0;32m      5\u001b[0m     \u001b[0mresponses\u001b[0m \u001b[1;33m=\u001b[0m \u001b[0mrequests\u001b[0m\u001b[1;33m.\u001b[0m\u001b[0mget\u001b[0m\u001b[1;33m(\u001b[0m\u001b[0murls\u001b[0m\u001b[1;33m)\u001b[0m\u001b[1;33m\u001b[0m\u001b[1;33m\u001b[0m\u001b[0m\n",
      "\u001b[1;31mAttributeError\u001b[0m: 'NoneType' object has no attribute 'find'"
     ]
    }
   ],
   "source": [
    "\"\"\"link = []\n",
    "b = int(soup.find('span',class_='last').find('a').get('href').split('=')[1])\n",
    "for i in range(1,b):\n",
    "    urls = 'https://turbo.az/autos' + '?page=' + str(i)\n",
    "    responses = requests.get(urls)\n",
    "    soups = BeautifulSoup(responses.text,'html.parser')\n",
    "    c = soups.find_all('a',class_='products-i__link')\n",
    "    for j in c:\n",
    "        car_link = 'https://turbo.az' + j.get('href')\n",
    "        if car_link in link:\n",
    "            pass\n",
    "        else:\n",
    "            link.append(car_link)\n",
    "links = pd.DataFrame()\n",
    "links = links.append(link)\n",
    "#links.to_excel('turbo_az_cars_link.xlsx')\"\"\""
   ]
  },
  {
   "cell_type": "code",
   "execution_count": null,
   "metadata": {},
   "outputs": [],
   "source": []
  },
  {
   "cell_type": "code",
   "execution_count": null,
   "id": "421c559e",
   "metadata": {},
   "outputs": [],
   "source": [
    "\"\"\"link = []\n",
    "b = int(soup.find('span',class_='last').find('a').get('href').split('=')[1])\n",
    "for i in range(1,b):\n",
    "    urls = 'https://turbo.az/autos' + '?page=' + str(i)\n",
    "    responses = requests.get(urls)\n",
    "    soups = BeautifulSoup(responses.text,'html.parser')\n",
    "    c = soups.find_all('a',class_='products-i__link')\n",
    "    for j in c:\n",
    "        car_link = 'https://turbo.az' + j.get('href')\n",
    "        if car_link in link:\n",
    "            pass\n",
    "        else:\n",
    "            link.append(car_link)\n",
    "links = pd.DataFrame()\n",
    "links = links.append(link)\n",
    "#links.to_excel('turbo_az_cars_link.xlsx')\"\"\""
   ]
  },
  {
   "cell_type": "code",
   "execution_count": 6,
   "id": "558f2497",
   "metadata": {},
   "outputs": [],
   "source": [
    "links = pd.read_excel('turbo_az_cars_link.xlsx')\n",
    "links = list(links[0])"
   ]
  },
  {
   "cell_type": "code",
   "execution_count": 100,
   "id": "39557360",
   "metadata": {},
   "outputs": [
    {
     "name": "stdout",
     "output_type": "stream",
     "text": [
      "0.2202291488647461\n"
     ]
    }
   ],
   "source": [
    "\"\"\"df = pd.DataFrame()\n",
    "var = []\n",
    "values = []\n",
    "col_name = []\n",
    "#for url in link:\n",
    "st = time.time()\n",
    "def get_scrapy_cars(url):\n",
    "    response = requests.get(url)\n",
    "    soup = BeautifulSoup(response.text,'html.parser')\n",
    "    a = soup.find_all('li',class_='product-properties-i')\n",
    "    for i in a:\n",
    "        if i.find('div') == None or i.find('label') == None:\n",
    "            pass\n",
    "        else:\n",
    "            col_name.append(i.find('label').text)\n",
    "            values.append(i.find('div').text)\n",
    "\n",
    "    c = soup.find_all('div',class_='product--contacts-side')\n",
    "    if c != [] and c != None:\n",
    "        sal = soup.find_all('div',class_='shop-contact-i shop-contact--phones')\n",
    "        for salon in sal:\n",
    "            col_name.append('Ad')\n",
    "            values.append(salon.find('a',class_='shop-contact--shop-name').text)\n",
    "            col_name.append('Nömrə')\n",
    "            phone = salon.find_all('div',class_='shop-contact--phones-i')\n",
    "            phones = []\n",
    "            for w in phone:\n",
    "                phones.append(w.find('a',class_='shop-contact--phones-number').text)\n",
    "            values.append(phones)\n",
    "    else:\n",
    "        try:\n",
    "            value_1 = soup.find('div',class_='seller-name').text\n",
    "        except:\n",
    "            value_1 = None\n",
    "        col_name.append('Ad')\n",
    "        values.append(value_1)\n",
    "        g = soup.find_all('div',class_='seller-phone')\n",
    "        if g == [] or g == None:\n",
    "            pass\n",
    "        else:\n",
    "            k = soup.find_all('div',class_='seller-phone')\n",
    "            phone_1 = []\n",
    "            for f in k:\n",
    "                phone_1.append(f.find('a').text)\n",
    "            col_name.append('Nömrə')\n",
    "            values.append(phone_1)\n",
    "    var.append(dict(zip(col_name,values)))\n",
    "    return \n",
    "with concurrent.futures.ThreadPoolExecutor() as executor:\n",
    "    executor.map(get_scrapy_cars, link)\n",
    "et = time.time()\n",
    "result = et - st\n",
    "print(result)\n",
    "df = pd.DataFrame(var)\"\"\""
   ]
  },
  {
   "cell_type": "code",
   "execution_count": null,
   "id": "051f006e",
   "metadata": {},
   "outputs": [],
   "source": []
  },
  {
   "cell_type": "code",
   "execution_count": 64,
   "id": "3cd07255",
   "metadata": {},
   "outputs": [],
   "source": [
    "\"\"\"def get_scrapy_cars(url):\n",
    "    response = s.get(url)\n",
    "    soup = BeautifulSoup(response.text,'html.parser')\n",
    "    a = soup.find_all('li',class_='product-properties-i')\n",
    "    print(a)\n",
    "    for i in a:\n",
    "        if i.find('div') == None or i.find('label') == None:\n",
    "            pass\n",
    "        else:\n",
    "            col_name.append(i.find('label').text)\n",
    "            values.append(i.find('div').text)\n",
    "\n",
    "    c = soup.find_all('div',class_='product--contacts-side')\n",
    "    if c != [] and c != None:\n",
    "        sal = soup.find_all('div',class_='shop-contact-i shop-contact--phones')\n",
    "        for salon in sal:\n",
    "            col_name.append('Ad')\n",
    "            values.append(salon.find('a',class_='shop-contact--shop-name').text)\n",
    "            col_name.append('Nömrə')\n",
    "            phone = salon.find_all('div',class_='shop-contact--phones-i')\n",
    "            phones = []\n",
    "            for w in phone:\n",
    "                phones.append(w.find('a',class_='shop-contact--phones-number').text)\n",
    "            values.append(phones)\n",
    "    else:\n",
    "        try:\n",
    "            value_1 = soup.find('div',class_='seller-name').text\n",
    "        except:\n",
    "            value_1 = None\n",
    "        col_name.append('Ad')\n",
    "        values.append(value_1)\n",
    "        g = soup.find_all('div',class_='seller-phone')\n",
    "        if g == [] or g == None:\n",
    "            pass\n",
    "        else:\n",
    "            k = soup.find_all('div',class_='seller-phone')\n",
    "            phone_1 = []\n",
    "            for f in k:\n",
    "                phone_1.append(f.find('a').text)\n",
    "            col_name.append('Nömrə')\n",
    "            values.append(phone_1)\n",
    "    var.append(dict(zip(col_name,values)))\"\"\""
   ]
  },
  {
   "cell_type": "code",
   "execution_count": null,
   "id": "a0914ce5",
   "metadata": {},
   "outputs": [],
   "source": [
    "\"\"\"df = pd.DataFrame()\n",
    "var = []\n",
    "st = time.time()\n",
    "for url in links[31250:]:\n",
    "    values = []\n",
    "    col_name = []\n",
    "    response = requests.get(url)\n",
    "    soup = BeautifulSoup(response.text,'html.parser')\n",
    "    a = soup.find_all('li',class_='product-properties-i')\n",
    "    for i in a:\n",
    "        print(i)\n",
    "        if i.find('div') == None or i.find('label') == None:\n",
    "            pass\n",
    "        else:\n",
    "            col_name.append(i.find('label').text)\n",
    "            values.append(i.find('div').text)\n",
    "    c = soup.find_all('div',class_='product--contacts-side')\n",
    "    if c != [] and c != None:\n",
    "        sal = soup.find_all('div',class_='shop-contact-i shop-contact--phones')\n",
    "        for salon in sal:\n",
    "            col_name.append('Ad')\n",
    "            values.append(salon.find('a',class_='shop-contact--shop-name').text)\n",
    "            col_name.append('Nömrə')\n",
    "            phone = salon.find_all('div',class_='shop-contact--phones-i')\n",
    "            phones = []\n",
    "            for w in phone:\n",
    "                phones.append(w.find('a',class_='shop-contact--phones-number').text)\n",
    "            values.append(phones)\n",
    "    else:\n",
    "        try:\n",
    "            value_1 = soup.find('div',class_='seller-name').text\n",
    "        except:\n",
    "            value_1 = None\n",
    "        col_name.append('Ad')\n",
    "        values.append(value_1)\n",
    "        g = soup.find_all('div',class_='seller-phone')\n",
    "        if g == [] or g == None:\n",
    "            pass\n",
    "        else:\n",
    "            k = soup.find_all('div',class_='seller-phone')\n",
    "            phone_1 = []\n",
    "            for f in k:\n",
    "                phone_1.append(f.find('a').text)\n",
    "            col_name.append('Nömrə')\n",
    "            values.append(phone_1)\n",
    "    col_name.append('Url')\n",
    "    values.append(url)\n",
    "    var.append(dict(zip(col_name,values)))\n",
    "et = time.time()\n",
    "result = et - st\n",
    "print(result)\n",
    "df_temp = pd.DataFrame(var)\"\"\""
   ]
  },
  {
   "cell_type": "code",
   "execution_count": null,
   "id": "9a17a2fb",
   "metadata": {},
   "outputs": [],
   "source": [
    "df_10099_14600"
   ]
  },
  {
   "cell_type": "code",
   "execution_count": 8,
   "id": "59346116",
   "metadata": {},
   "outputs": [],
   "source": []
  },
  {
   "cell_type": "code",
   "execution_count": null,
   "id": "5d71a02b",
   "metadata": {},
   "outputs": [],
   "source": [
    "\n"
   ]
  }
 ],
 "metadata": {
  "kernelspec": {
   "display_name": "base",
   "language": "python",
   "name": "python3"
  },
  "language_info": {
   "codemirror_mode": {
    "name": "ipython",
    "version": 3
   },
   "file_extension": ".py",
   "mimetype": "text/x-python",
   "name": "python",
   "nbconvert_exporter": "python",
   "pygments_lexer": "ipython3",
   "version": "3.9.13 (main, Aug 25 2022, 23:51:50) [MSC v.1916 64 bit (AMD64)]"
  },
  "vscode": {
   "interpreter": {
    "hash": "63ce14bcb502c7b5e49d0fd5ba5a22fa86c3293e37fd281a00cbb5b0563f939e"
   }
  }
 },
 "nbformat": 4,
 "nbformat_minor": 5
}
